{
 "cells": [
  {
   "cell_type": "code",
   "execution_count": 1,
   "id": "789cd83d-9b08-410f-b431-05c6e82ca3d2",
   "metadata": {},
   "outputs": [
    {
     "name": "stdout",
     "output_type": "stream",
     "text": [
      "Requirement already satisfied: torchvision in c:\\users\\admin\\anaconda3\\lib\\site-packages (0.20.1)\n",
      "Requirement already satisfied: numpy in c:\\users\\admin\\anaconda3\\lib\\site-packages (from torchvision) (1.26.4)\n",
      "Requirement already satisfied: torch==2.5.1 in c:\\users\\admin\\anaconda3\\lib\\site-packages (from torchvision) (2.5.1)\n",
      "Requirement already satisfied: pillow!=8.3.*,>=5.3.0 in c:\\users\\admin\\anaconda3\\lib\\site-packages (from torchvision) (10.3.0)\n",
      "Requirement already satisfied: filelock in c:\\users\\admin\\anaconda3\\lib\\site-packages (from torch==2.5.1->torchvision) (3.13.1)\n",
      "Requirement already satisfied: typing-extensions>=4.8.0 in c:\\users\\admin\\anaconda3\\lib\\site-packages (from torch==2.5.1->torchvision) (4.11.0)\n",
      "Requirement already satisfied: networkx in c:\\users\\admin\\anaconda3\\lib\\site-packages (from torch==2.5.1->torchvision) (3.2.1)\n",
      "Requirement already satisfied: jinja2 in c:\\users\\admin\\anaconda3\\lib\\site-packages (from torch==2.5.1->torchvision) (3.1.4)\n",
      "Requirement already satisfied: fsspec in c:\\users\\admin\\anaconda3\\lib\\site-packages (from torch==2.5.1->torchvision) (2024.3.1)\n",
      "Requirement already satisfied: setuptools in c:\\users\\admin\\anaconda3\\lib\\site-packages (from torch==2.5.1->torchvision) (69.5.1)\n",
      "Requirement already satisfied: sympy==1.13.1 in c:\\users\\admin\\anaconda3\\lib\\site-packages (from torch==2.5.1->torchvision) (1.13.1)\n",
      "Requirement already satisfied: mpmath<1.4,>=1.1.0 in c:\\users\\admin\\anaconda3\\lib\\site-packages (from sympy==1.13.1->torch==2.5.1->torchvision) (1.3.0)\n",
      "Requirement already satisfied: MarkupSafe>=2.0 in c:\\users\\admin\\anaconda3\\lib\\site-packages (from jinja2->torch==2.5.1->torchvision) (2.1.3)\n",
      "Note: you may need to restart the kernel to use updated packages.\n"
     ]
    }
   ],
   "source": [
    "pip install torchvision\n"
   ]
  },
  {
   "cell_type": "code",
   "execution_count": 2,
   "id": "e3ebd594-8fd5-439b-85ce-c6a1959edce1",
   "metadata": {},
   "outputs": [],
   "source": [
    "import os, glob\n",
    "import cv2 \n",
    "import xml.etree.ElementTree as ET\n",
    "from PIL import Image \n",
    "from pathlib import Path\n",
    "from matplotlib import pyplot as plt\n",
    "import numpy as np\n",
    "import pandas as pd\n",
    "import torch\n",
    "from torchvision import transforms\n",
    "import torchvision.models as models\n",
    "from sklearn.decomposition import PCA\n",
    "from sklearn.cluster import KMeans, SpectralClustering, AgglomerativeClustering, DBSCAN, BisectingKMeans\n",
    "from sklearn.metrics import fowlkes_mallows_score, silhouette_score\n",
    "from sklearn.preprocessing import LabelEncoder\n",
    "from torchvision.models import resnet18, ResNet18_Weights"
   ]
  },
  {
   "cell_type": "code",
   "execution_count": 3,
   "id": "cab799bc-26c7-4576-a6fd-38e4453fe332",
   "metadata": {},
   "outputs": [],
   "source": [
    " dog_images = glob.glob(r'C:\\Users\\ADMIN\\Desktop\\nidhi python\\images\\\\*\\\\*')\n",
    " breeds = glob.glob(r'C:\\Users\\ADMIN\\Desktop\\nidhi python\\annotation\\\\*\\\\*')\n",
    " annotations = glob.glob(r'C:\\Users\\ADMIN\\Desktop\\nidhi python\\annotation\\\\*\\\\*')"
   ]
  },
  {
   "cell_type": "code",
   "execution_count": 4,
   "id": "c33d997b-1708-4116-b234-760ca6941d79",
   "metadata": {},
   "outputs": [],
   "source": [
    " def get_bounding_boxes(annot):\n",
    "    xml = annot\n",
    "    tree = ET.parse(xml)\n",
    "    root = tree.getroot()\n",
    "    objects = root.findall('object')\n",
    "    bbox = []\n",
    "    for o in objects:\n",
    "        bndbox = o.find('bndbox')\n",
    "        xmin = int(bndbox.find('xmin').text)\n",
    "        ymin = int(bndbox.find('ymin').text)\n",
    "        xmax = int(bndbox.find('xmax').text)\n",
    "        ymax = int(bndbox.find('ymax').text)\n",
    "        bbox.append((xmin,ymin,xmax,ymax))\n",
    "    return bbox"
   ]
  },
  {
   "cell_type": "code",
   "execution_count": 5,
   "id": "c18f0a60-f163-43bc-9417-33ab6b73b4bc",
   "metadata": {},
   "outputs": [],
   "source": [
    "def get_image(annot):\n",
    "    img_path = r'C:\\Users\\ADMIN\\Desktop\\nidhi python\\images'\n",
    "    file = annot.split('\\\\')\n",
    "    img_filename = img_path + '\\\\' + file[-2]+'\\\\'+file[-1]+'.jpg'\n",
    "    return img_filename"
   ]
  },
  {
   "cell_type": "code",
   "execution_count": 6,
   "id": "4813ad2f-3318-4f60-97b1-12b9a14c3ddd",
   "metadata": {},
   "outputs": [],
   "source": [
    "for i in range(len(dog_images)):\n",
    "    bbox = get_bounding_boxes(annotations[i])\n",
    "    dog = get_image(annotations[i])\n",
    "    im = Image.open(dog)\n",
    "    for j in range(len(bbox)):\n",
    "        im2 = im.crop(bbox[j])\n",
    "        im2 = im2.resize((224,224), Image.Resampling.LANCZOS)\n",
    "        new_path = dog.replace(r'C:\\Users\\ADMIN\\Desktop\\nidhi python\\images',\n",
    "                               r'C:\\Users\\ADMIN\\Desktop\\nidhi python\\Cropped_224_v1')\n",
    "        new_path = new_path.replace('.jpg','-' + str(j) + '.jpg')\n",
    "        im2=im2.convert('RGB')\n",
    "        head, tail = os.path.split(new_path)\n",
    "        Path(head).mkdir(parents=True, exist_ok=True)\n",
    "        im2.save(new_path)"
   ]
  },
  {
   "cell_type": "code",
   "execution_count": 7,
   "id": "9ff91afa-38bf-4069-a922-91b5a8c56c74",
   "metadata": {},
   "outputs": [],
   "source": [
    "cropped_images_path = r'C:\\Users\\ADMIN\\Desktop\\nidhi python\\Cropped_224_v1'\n",
    "dog_classes = ['n02092002-Scottish_deerhound','n02093991-Irish_terrier','n02097474-Tibetan_terrier','n02106166-Border_collie']"
   ]
  },
  {
   "cell_type": "code",
   "execution_count": 8,
   "id": "64a0d207-52c4-4d75-a55b-836b71c7492b",
   "metadata": {},
   "outputs": [],
   "source": [
    "dog_images = []\n",
    "labels = []\n",
    "for breed in dog_classes:\n",
    "    images = glob.glob(cropped_images_path + '\\\\' + breed + '\\\\*')\n",
    "    for image in images:\n",
    "        image_array = cv2.imread(image, cv2.IMREAD_COLOR)\n",
    "        normalized_image = ((image_array - image_array.mean()) / image_array.std())\n",
    "        dog_images.append(normalized_image)\n",
    "        labels.append(breed)\n",
    "label_encoder = LabelEncoder()\n",
    "labels = label_encoder.fit_transform(labels)"
   ]
  },
  {
   "cell_type": "code",
   "execution_count": 9,
   "id": "31872291-0796-410b-a441-8520c2796555",
   "metadata": {},
   "outputs": [
    {
     "data": {
      "text/plain": [
       "ResNet(\n",
       "  (conv1): Conv2d(3, 64, kernel_size=(7, 7), stride=(2, 2), padding=(3, 3), bias=False)\n",
       "  (bn1): BatchNorm2d(64, eps=1e-05, momentum=0.1, affine=True, track_running_stats=True)\n",
       "  (relu): ReLU(inplace=True)\n",
       "  (maxpool): MaxPool2d(kernel_size=3, stride=2, padding=1, dilation=1, ceil_mode=False)\n",
       "  (layer1): Sequential(\n",
       "    (0): BasicBlock(\n",
       "      (conv1): Conv2d(64, 64, kernel_size=(3, 3), stride=(1, 1), padding=(1, 1), bias=False)\n",
       "      (bn1): BatchNorm2d(64, eps=1e-05, momentum=0.1, affine=True, track_running_stats=True)\n",
       "      (relu): ReLU(inplace=True)\n",
       "      (conv2): Conv2d(64, 64, kernel_size=(3, 3), stride=(1, 1), padding=(1, 1), bias=False)\n",
       "      (bn2): BatchNorm2d(64, eps=1e-05, momentum=0.1, affine=True, track_running_stats=True)\n",
       "    )\n",
       "    (1): BasicBlock(\n",
       "      (conv1): Conv2d(64, 64, kernel_size=(3, 3), stride=(1, 1), padding=(1, 1), bias=False)\n",
       "      (bn1): BatchNorm2d(64, eps=1e-05, momentum=0.1, affine=True, track_running_stats=True)\n",
       "      (relu): ReLU(inplace=True)\n",
       "      (conv2): Conv2d(64, 64, kernel_size=(3, 3), stride=(1, 1), padding=(1, 1), bias=False)\n",
       "      (bn2): BatchNorm2d(64, eps=1e-05, momentum=0.1, affine=True, track_running_stats=True)\n",
       "    )\n",
       "  )\n",
       "  (layer2): Sequential(\n",
       "    (0): BasicBlock(\n",
       "      (conv1): Conv2d(64, 128, kernel_size=(3, 3), stride=(2, 2), padding=(1, 1), bias=False)\n",
       "      (bn1): BatchNorm2d(128, eps=1e-05, momentum=0.1, affine=True, track_running_stats=True)\n",
       "      (relu): ReLU(inplace=True)\n",
       "      (conv2): Conv2d(128, 128, kernel_size=(3, 3), stride=(1, 1), padding=(1, 1), bias=False)\n",
       "      (bn2): BatchNorm2d(128, eps=1e-05, momentum=0.1, affine=True, track_running_stats=True)\n",
       "      (downsample): Sequential(\n",
       "        (0): Conv2d(64, 128, kernel_size=(1, 1), stride=(2, 2), bias=False)\n",
       "        (1): BatchNorm2d(128, eps=1e-05, momentum=0.1, affine=True, track_running_stats=True)\n",
       "      )\n",
       "    )\n",
       "    (1): BasicBlock(\n",
       "      (conv1): Conv2d(128, 128, kernel_size=(3, 3), stride=(1, 1), padding=(1, 1), bias=False)\n",
       "      (bn1): BatchNorm2d(128, eps=1e-05, momentum=0.1, affine=True, track_running_stats=True)\n",
       "      (relu): ReLU(inplace=True)\n",
       "      (conv2): Conv2d(128, 128, kernel_size=(3, 3), stride=(1, 1), padding=(1, 1), bias=False)\n",
       "      (bn2): BatchNorm2d(128, eps=1e-05, momentum=0.1, affine=True, track_running_stats=True)\n",
       "    )\n",
       "  )\n",
       "  (layer3): Sequential(\n",
       "    (0): BasicBlock(\n",
       "      (conv1): Conv2d(128, 256, kernel_size=(3, 3), stride=(2, 2), padding=(1, 1), bias=False)\n",
       "      (bn1): BatchNorm2d(256, eps=1e-05, momentum=0.1, affine=True, track_running_stats=True)\n",
       "      (relu): ReLU(inplace=True)\n",
       "      (conv2): Conv2d(256, 256, kernel_size=(3, 3), stride=(1, 1), padding=(1, 1), bias=False)\n",
       "      (bn2): BatchNorm2d(256, eps=1e-05, momentum=0.1, affine=True, track_running_stats=True)\n",
       "      (downsample): Sequential(\n",
       "        (0): Conv2d(128, 256, kernel_size=(1, 1), stride=(2, 2), bias=False)\n",
       "        (1): BatchNorm2d(256, eps=1e-05, momentum=0.1, affine=True, track_running_stats=True)\n",
       "      )\n",
       "    )\n",
       "    (1): BasicBlock(\n",
       "      (conv1): Conv2d(256, 256, kernel_size=(3, 3), stride=(1, 1), padding=(1, 1), bias=False)\n",
       "      (bn1): BatchNorm2d(256, eps=1e-05, momentum=0.1, affine=True, track_running_stats=True)\n",
       "      (relu): ReLU(inplace=True)\n",
       "      (conv2): Conv2d(256, 256, kernel_size=(3, 3), stride=(1, 1), padding=(1, 1), bias=False)\n",
       "      (bn2): BatchNorm2d(256, eps=1e-05, momentum=0.1, affine=True, track_running_stats=True)\n",
       "    )\n",
       "  )\n",
       "  (layer4): Sequential(\n",
       "    (0): BasicBlock(\n",
       "      (conv1): Conv2d(256, 512, kernel_size=(3, 3), stride=(2, 2), padding=(1, 1), bias=False)\n",
       "      (bn1): BatchNorm2d(512, eps=1e-05, momentum=0.1, affine=True, track_running_stats=True)\n",
       "      (relu): ReLU(inplace=True)\n",
       "      (conv2): Conv2d(512, 512, kernel_size=(3, 3), stride=(1, 1), padding=(1, 1), bias=False)\n",
       "      (bn2): BatchNorm2d(512, eps=1e-05, momentum=0.1, affine=True, track_running_stats=True)\n",
       "      (downsample): Sequential(\n",
       "        (0): Conv2d(256, 512, kernel_size=(1, 1), stride=(2, 2), bias=False)\n",
       "        (1): BatchNorm2d(512, eps=1e-05, momentum=0.1, affine=True, track_running_stats=True)\n",
       "      )\n",
       "    )\n",
       "    (1): BasicBlock(\n",
       "      (conv1): Conv2d(512, 512, kernel_size=(3, 3), stride=(1, 1), padding=(1, 1), bias=False)\n",
       "      (bn1): BatchNorm2d(512, eps=1e-05, momentum=0.1, affine=True, track_running_stats=True)\n",
       "      (relu): ReLU(inplace=True)\n",
       "      (conv2): Conv2d(512, 512, kernel_size=(3, 3), stride=(1, 1), padding=(1, 1), bias=False)\n",
       "      (bn2): BatchNorm2d(512, eps=1e-05, momentum=0.1, affine=True, track_running_stats=True)\n",
       "    )\n",
       "  )\n",
       "  (avgpool): AdaptiveAvgPool2d(output_size=(1, 1))\n",
       "  (fc): Linear(in_features=512, out_features=1000, bias=True)\n",
       ")"
      ]
     },
     "execution_count": 9,
     "metadata": {},
     "output_type": "execute_result"
    }
   ],
   "source": [
    "\n",
    "X_tensor = [transforms.functional.to_tensor(img) for img in dog_images]\n",
    "model = resnet18(weights=ResNet18_Weights.IMAGENET1K_V1)\n",
    "model.eval()  "
   ]
  },
  {
   "cell_type": "code",
   "execution_count": 10,
   "id": "c880d89e-1ace-4795-a2b7-e362e0b7196e",
   "metadata": {},
   "outputs": [
    {
     "data": {
      "text/plain": [
       "<torch.utils.hooks.RemovableHandle at 0x1841b7b7e30>"
      ]
     },
     "execution_count": 10,
     "metadata": {},
     "output_type": "execute_result"
    }
   ],
   "source": [
    "features = {}\n",
    "def get_features(name):\n",
    "    def hook(model, input, output):\n",
    "        features[name] = output.detach()\n",
    "    return hook\n",
    "model.layer4[1].conv2.register_forward_hook(get_features('final_conv_outputs'))"
   ]
  },
  {
   "cell_type": "code",
   "execution_count": 11,
   "id": "15e6b336-80e6-44b0-b47d-7a927d2fe42e",
   "metadata": {},
   "outputs": [],
   "source": [
    "device = torch.device(\"cuda:0\" if torch.cuda.is_available() else \"cpu\")\n",
    "model.to(device)\n",
    "final_conv_features = []\n",
    "with torch.no_grad():\n",
    "    for img in X_tensor:\n",
    "        img = img.unsqueeze(0).to(device).float()\n",
    "        model(img)  \n",
    "        final_conv_features.append(features['final_conv_outputs'].cpu())"
   ]
  },
  {
   "cell_type": "code",
   "execution_count": 12,
   "id": "43905394-6260-4617-9c6b-f54b4cdbf9a6",
   "metadata": {},
   "outputs": [],
   "source": [
    " # Flatten the features for PCA\n",
    " flattened_features = [f.view(f.size(0), -1).numpy() for f in final_conv_features]\n",
    " flattened_features = np.concatenate(flattened_features, axis=0)\n",
    " # PCA to reduce dimensions to 2\n",
    " pca = PCA(n_components=2)\n",
    " X_pca = pca.fit_transform(flattened_features)"
   ]
  },
  {
   "cell_type": "code",
   "execution_count": 13,
   "id": "7785f0f0-2190-42ed-aa6a-964413e56536",
   "metadata": {},
   "outputs": [],
   "source": [
    "# K-means with random initialization\n",
    "kmeans_random = KMeans(n_clusters=4, init='random').fit(X_pca)\n",
    " # K-means with k-means++ initialization\n",
    "kmeans_plus = KMeans(n_clusters=4, init='k-means++').fit(X_pca)\n",
    " # Bisecting K-means\n",
    "bisect_kmeans = BisectingKMeans(n_clusters=4, init='random').fit(X_pca)\n",
    " # Spectral Clustering\n",
    "spectral = SpectralClustering(n_clusters=4).fit(X_pca)"
   ]
  },
  {
   "cell_type": "code",
   "execution_count": 14,
   "id": "d65f22e0-b38b-4a70-b859-a923d60498e1",
   "metadata": {},
   "outputs": [
    {
     "name": "stdout",
     "output_type": "stream",
     "text": [
      "Min sample: 5\n",
      "eps: 0.18\n",
      "Number of clusters: 6\n"
     ]
    }
   ],
   "source": [
    "eps = 0.18\n",
    "min_samples = 5\n",
    "dbscan = DBSCAN(eps=eps, min_samples=min_samples)\n",
    "dbscan_labels = dbscan.fit_predict(X_pca)\n",
    "print('Min sample: ' + str(min_samples))\n",
    "print('eps: ' + str(eps))\n",
    "print('Number of clusters: ' + str(len(np.unique(dbscan_labels))))"
   ]
  },
  {
   "cell_type": "code",
   "execution_count": 15,
   "id": "ccb6284a-2d35-4d8e-b0f5-f49f53307b00",
   "metadata": {},
   "outputs": [],
   "source": [
    " # Different linkage criteria\n",
    "single_link = AgglomerativeClustering(n_clusters=4, linkage='single').fit(X_pca)\n",
    "complete_link = AgglomerativeClustering(n_clusters=4, linkage='complete').fit(X_pca)\n",
    "average_link = AgglomerativeClustering(n_clusters=4, linkage='average').fit(X_pca)\n",
    "ward_link = AgglomerativeClustering(n_clusters=4, linkage='ward').fit(X_pca)"
   ]
  },
  {
   "cell_type": "code",
   "execution_count": 16,
   "id": "515817ec-363f-4bfb-854a-a34946472c39",
   "metadata": {},
   "outputs": [],
   "source": [
    " # Calculate Fowlkes-Mallows index and Silhouette Coefficient for each clustering method\n",
    " # K-means with random initialization\n",
    " fm_kmeans_random = fowlkes_mallows_score(labels, kmeans_random.labels_)\n",
    " silhouette_kmeans_random = silhouette_score(X_pca, kmeans_random.labels_)\n",
    " # K-means with k-means++ initialization\n",
    " fm_kmeans_plus = fowlkes_mallows_score(labels, kmeans_plus.labels_)\n",
    " silhouette_kmeans_plus = silhouette_score(X_pca, kmeans_plus.labels_)\n",
    " # Bisecting K-means\n",
    " fm_bisect_kmeans = fowlkes_mallows_score(labels, bisect_kmeans.labels_)\n",
    " silhouette_bisect_kmeans = silhouette_score(X_pca, bisect_kmeans.labels_)\n",
    " # Spectral Clustering\n",
    " fm_spectral = fowlkes_mallows_score(labels, spectral.labels_)\n",
    " silhouette_spectral = silhouette_score(X_pca, spectral.labels_)\n",
    " # DBSCAN\n",
    " fm_dbscan = fowlkes_mallows_score(labels, dbscan.labels_)\n",
    " silhouette_dbscan = silhouette_score(X_pca, dbscan.labels_)\n",
    " # Hierarchical Clustering - Single Link\n",
    " fm_single_link = fowlkes_mallows_score(labels, single_link.labels_)\n",
    " silhouette_single_link = silhouette_score(X_pca, single_link.labels_)\n",
    " # Hierarchical Clustering - Complete Link\n",
    " fm_complete_link = fowlkes_mallows_score(labels, complete_link.labels_)\n",
    " silhouette_complete_link = silhouette_score(X_pca, complete_link.labels_)\n",
    " # Hierarchical Clustering - Average Link\n",
    " fm_average_link = fowlkes_mallows_score(labels, average_link.labels_)\n",
    " silhouette_average_link = silhouette_score(X_pca, average_link.labels_)\n",
    " # Hierarchical Clustering - Ward’s method\n",
    " fm_ward_link = fowlkes_mallows_score(labels, ward_link.labels_)\n",
    " silhouette_ward_link = silhouette_score(X_pca, ward_link.labels_)"
   ]
  },
  {
   "cell_type": "code",
   "execution_count": 17,
   "id": "b0c2da61-99c6-47ed-a587-3d8c730f71c4",
   "metadata": {},
   "outputs": [
    {
     "name": "stdout",
     "output_type": "stream",
     "text": [
      "Ranking based on Fowlkes-Mallows Index:\n",
      "1. K-means (k-means++) - Score: 0.7241245877782262\n",
      "2. K-means (Random Init) - Score: 0.7235991742582496\n",
      "3. Spectral Clustering - Score: 0.7103456420905379\n",
      "4. Hierarchical Clustering (Average Link) - Score: 0.7095826556838983\n",
      "5. Hierarchical Clustering (Ward’s method) - Score: 0.7094914835067307\n",
      "6. Hierarchical Clustering (Complete Link) - Score: 0.652480315547086\n",
      "7. Bisecting K-means - Score: 0.6475193717058999\n",
      "8. Hierarchical Clustering (Single Link) - Score: 0.5037185534021091\n",
      "9. DBSCAN - Score: 0.48311477148185916\n",
      "\n",
      "Ranking based on Silhouette Coefficient:\n",
      "1. K-means (Random Init) - Score: 0.540037989616394\n",
      "2. K-means (k-means++) - Score: 0.5396698117256165\n",
      "3. Spectral Clustering - Score: 0.5383628606796265\n",
      "4. Hierarchical Clustering (Ward’s method) - Score: 0.5330082178115845\n",
      "5. Hierarchical Clustering (Average Link) - Score: 0.5289923548698425\n",
      "6. Hierarchical Clustering (Complete Link) - Score: 0.4729314148426056\n",
      "7. Bisecting K-means - Score: 0.4598406255245209\n",
      "8. Hierarchical Clustering (Single Link) - Score: -0.2424754649400711\n",
      "9. DBSCAN - Score: -0.3579060435295105\n"
     ]
    }
   ],
   "source": [
    "# Storing the method names and scores in tuples\n",
    "clustering_methods = [\n",
    "    (\"K-means (Random Init)\", fm_kmeans_random, silhouette_kmeans_random),\n",
    "    (\"K-means (k-means++)\", fm_kmeans_plus, silhouette_kmeans_plus),\n",
    "    (\"Bisecting K-means\", fm_bisect_kmeans, silhouette_bisect_kmeans),\n",
    "    (\"Spectral Clustering\", fm_spectral, silhouette_spectral),\n",
    "    (\"DBSCAN\", fm_dbscan, silhouette_dbscan),\n",
    "    (\"Hierarchical Clustering (Single Link)\", fm_single_link, silhouette_single_link),\n",
    "    (\"Hierarchical Clustering (Complete Link)\", fm_complete_link, silhouette_complete_link),\n",
    "    (\"Hierarchical Clustering (Average Link)\", fm_average_link, silhouette_average_link),\n",
    "    (\"Hierarchical Clustering (Ward’s method)\", fm_ward_link, silhouette_ward_link)\n",
    " ]\n",
    " # Sorting based on Fowlkes-Mallows index\n",
    "fm_ranking = sorted(clustering_methods, key=lambda x: x[1], reverse=True)\n",
    " # Sorting based on Silhouette Coefficient\n",
    "silhouette_ranking = sorted(clustering_methods, key=lambda x: x[2], reverse=True)\n",
    " # Printing the rankings\n",
    "print(\"Ranking based on Fowlkes-Mallows Index:\")\n",
    "for rank, method in enumerate(fm_ranking, 1):\n",
    "    print(f\"{rank}. {method[0]} - Score: {method[1]}\")\n",
    "print(\"\\nRanking based on Silhouette Coefficient:\")\n",
    "for rank, method in enumerate(silhouette_ranking, 1):\n",
    "    print(f\"{rank}. {method[0]} - Score: {method[2]}\")\n"
   ]
  },
  {
   "cell_type": "code",
   "execution_count": null,
   "id": "074dc951-9c33-4d23-a905-867ad10ead3c",
   "metadata": {},
   "outputs": [],
   "source": []
  },
  {
   "cell_type": "code",
   "execution_count": null,
   "id": "c54b36a0-06e6-496f-b3a5-bc72bed67335",
   "metadata": {},
   "outputs": [],
   "source": []
  }
 ],
 "metadata": {
  "kernelspec": {
   "display_name": "Python 3 (ipykernel)",
   "language": "python",
   "name": "python3"
  },
  "language_info": {
   "codemirror_mode": {
    "name": "ipython",
    "version": 3
   },
   "file_extension": ".py",
   "mimetype": "text/x-python",
   "name": "python",
   "nbconvert_exporter": "python",
   "pygments_lexer": "ipython3",
   "version": "3.12.4"
  }
 },
 "nbformat": 4,
 "nbformat_minor": 5
}
